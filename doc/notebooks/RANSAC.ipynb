{
 "cells": [
  {
   "cell_type": "markdown",
   "metadata": {},
   "source": [
    "# RANSAC example\n",
    "\n",
    "In this example, we compare the performance of a normal algebraic one step (AOS) Pivot Calibration [Yaniv2010], with a RANSAC version of the same algorithm.\n"
   ]
  },
  {
   "cell_type": "code",
   "execution_count": 1,
   "metadata": {},
   "outputs": [],
   "source": [
    "%matplotlib inline"
   ]
  },
  {
   "cell_type": "code",
   "execution_count": 2,
   "metadata": {},
   "outputs": [],
   "source": [
    "# Jupyter notebook sets the cwd to the folder containing the notebook.\n",
    "# So, you want to add the root of the project to the sys path, so modules load correctly.\n",
    "import sys\n",
    "sys.path.append(\"../../\")"
   ]
  },
  {
   "cell_type": "code",
   "execution_count": 3,
   "metadata": {},
   "outputs": [],
   "source": [
    "# All imports.\n",
    "from glob import glob\n",
    "import copy\n",
    "import random\n",
    "import cv2\n",
    "import numpy as np\n",
    "import matplotlib.pyplot as plt\n",
    "\n",
    "# Note that the scikit-surgery libraries provide pivot and RANSAC. \n",
    "import sksurgerycalibration.algorithms.pivot as p   # AOS Pivot algorithm and a RANSAC version.\n",
    "import sksurgerycore.transforms.matrix as m  # For creating 4x4 matrices."
   ]
  },
  {
   "cell_type": "code",
   "execution_count": 4,
   "metadata": {},
   "outputs": [
    {
     "name": "stdout",
     "output_type": "stream",
     "text": [
      "(1151, 4, 4)\n"
     ]
    }
   ],
   "source": [
    "# Load test data\n",
    "file_names = glob('PivotCalibrationData/*')\n",
    "arrays = [np.loadtxt(f) for f in file_names]\n",
    "matrices = np.concatenate(arrays)\n",
    "number_of_matrices = int(matrices.size/16)\n",
    "tracking_matrices = matrices.reshape(number_of_matrices, 4, 4)\n",
    "print(tracking_matrices.shape)"
   ]
  },
  {
   "cell_type": "code",
   "execution_count": 7,
   "metadata": {},
   "outputs": [
    {
     "name": "stdout",
     "output_type": "stream",
     "text": [
      "Offset is:[[-14.47617201]\n",
      " [395.14282161]\n",
      " [ -7.55790421]]\n",
      "Pivot is:[[ -805.28473588]\n",
      " [  -85.44779266]\n",
      " [-2112.0664371 ]]\n",
      "RMS error about centroid is:1.8384664420100074\n"
     ]
    }
   ],
   "source": [
    "# Do a normal pivot calibration using all data.\n",
    "offset_1, pivot_1, residual_1 = p.pivot_calibration(tracking_matrices)\n",
    "print(\"Offset is:\" + str(offset_1))\n",
    "print(\"Pivot is:\" + str(pivot_1))\n",
    "print(\"RMS error about centroid is:\" + str(residual_1))"
   ]
  },
  {
   "cell_type": "markdown",
   "metadata": {},
   "source": [
    "So, if we add noisy data, we should be able to see the difference between a normal pivot calibration (least squares), and the RANSAC version. We have about 1000 matrices, so lets add noise up to 100 of them."
   ]
  },
  {
   "cell_type": "code",
   "execution_count": 8,
   "metadata": {},
   "outputs": [],
   "source": [
    "# Parameters to play with\n",
    "number_of_matrices_to_add_noise_to = 100\n",
    "rotation_offset_in_degrees = 5\n",
    "translation_offset_in_millimetres = 5\n",
    "number_iterations = 10\n",
    "error_in_millimetres = 4\n",
    "minimum_percentage = 0.25"
   ]
  },
  {
   "cell_type": "code",
   "execution_count": 10,
   "metadata": {},
   "outputs": [
    {
     "name": "stdout",
     "output_type": "stream",
     "text": [
      "RANSAC Pivot, from 1151 matrices, used 1010 matrices, with error threshold = 4 and consensus threshold = 0.25\n",
      "RANSAC Pivot, from 1151 matrices, used 924 matrices, with error threshold = 4 and consensus threshold = 0.25\n",
      "RANSAC Pivot, from 1151 matrices, used 925 matrices, with error threshold = 4 and consensus threshold = 0.25\n",
      "RANSAC Pivot, from 1151 matrices, used 966 matrices, with error threshold = 4 and consensus threshold = 0.25\n",
      "RANSAC Pivot, from 1151 matrices, used 952 matrices, with error threshold = 4 and consensus threshold = 0.25\n",
      "RANSAC Pivot, from 1151 matrices, used 899 matrices, with error threshold = 4 and consensus threshold = 0.25\n",
      "RANSAC Pivot, from 1151 matrices, used 897 matrices, with error threshold = 4 and consensus threshold = 0.25\n",
      "RANSAC Pivot, from 1151 matrices, used 920 matrices, with error threshold = 4 and consensus threshold = 0.25\n",
      "RANSAC Pivot, from 1151 matrices, used 911 matrices, with error threshold = 4 and consensus threshold = 0.25\n",
      "RANSAC Pivot, from 1151 matrices, used 948 matrices, with error threshold = 4 and consensus threshold = 0.25\n"
     ]
    }
   ],
   "source": [
    "# Create an array representing how many to add noise to.\n",
    "rms_error_ls = []\n",
    "rms_error_RANSAC = []\n",
    "x_values = []\n",
    "indices = range(tracking_matrices.shape[0])\n",
    "for counter in range(0, number_of_matrices_to_add_noise_to, 10):\n",
    "    matrices_copy = copy.deepcopy(tracking_matrices)\n",
    "    random_indices = random.sample(indices, counter)\n",
    "    for random_index in random_indices:\n",
    "        random_rotation = m.construct_rotm_from_euler((np.random.rand() * rotation_offset_in_degrees*2)-rotation_offset_in_degrees,\n",
    "                                                      (np.random.rand() * rotation_offset_in_degrees*2)-rotation_offset_in_degrees,\n",
    "                                                      (np.random.rand() * rotation_offset_in_degrees*2)-rotation_offset_in_degrees,\n",
    "                                                      \"zyx\", is_in_radians=False)\n",
    "        random_translation = np.zeros((3,1))\n",
    "        random_translation[0][0] = (np.random.rand() * translation_offset_in_millimetres*2)-translation_offset_in_millimetres\n",
    "        random_translation[1][0] = (np.random.rand() * translation_offset_in_millimetres*2)-translation_offset_in_millimetres\n",
    "        random_translation[2][0] = (np.random.rand() * translation_offset_in_millimetres*2)-translation_offset_in_millimetres\n",
    "        random_transform = m.construct_rigid_transformation(random_rotation, random_translation)\n",
    "        matrices_copy[random_index] = matrices_copy[random_index] @ random_transform\n",
    "    offset_2, pivot_2, residual_2 = p.pivot_calibration(matrices_copy)\n",
    "    offset_3, pivot_3, residual_3 = p.pivot_calibration_with_ransac(matrices_copy, number_iterations, error_in_millimetres, minimum_percentage)\n",
    "    x_values.append(counter)\n",
    "    rms_error_ls.append(residual_2)\n",
    "    rms_error_RANSAC.append(residual_3)"
   ]
  },
  {
   "cell_type": "code",
   "execution_count": 11,
   "metadata": {},
   "outputs": [
    {
     "data": {
      "image/png": "[encoded data removed]",
      "text/plain": [
       "<Figure size 432x288 with 1 Axes>"
      ]
     },
     "metadata": {
      "needs_background": "light"
     },
     "output_type": "display_data"
    }
   ],
   "source": [
    "plt.plot(x_values, rms_error_ls, 'r', label='LS')  \n",
    "plt.plot(x_values, rms_error_RANSAC, 'g', label='RANSAC') \n",
    "plt.legend(loc='upper left')\n",
    "plt.show()"
   ]
  },
  {
   "cell_type": "code",
   "execution_count": null,
   "metadata": {},
   "outputs": [],
   "source": []
  }
 ],
 "metadata": {
  "kernelspec": {
   "display_name": "mphy0026",
   "language": "python",
   "name": "mphy0026"
  },
  "language_info": {
   "codemirror_mode": {
    "name": "ipython",
    "version": 3
   },
   "file_extension": ".py",
   "mimetype": "text/x-python",
   "name": "python",
   "nbconvert_exporter": "python",
   "pygments_lexer": "ipython3",
   "version": "3.6.8"
  }
 },
 "nbformat": 4,
 "nbformat_minor": 2
}
