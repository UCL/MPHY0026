{
 "cells": [
  {
   "cell_type": "markdown",
   "metadata": {},
   "source": [
    "# Simulating Optical Tracking Errors\n",
    "\n",
    "In this page, we walk through an example of how to simulate the tracking errors experienced in optical tracking. \n"
   ]
  },
  {
   "cell_type": "code",
   "execution_count": 19,
   "metadata": {},
   "outputs": [],
   "source": [
    "%matplotlib inline"
   ]
  },
  {
   "cell_type": "code",
   "execution_count": 20,
   "metadata": {},
   "outputs": [],
   "source": [
    "# Jupyter notebook sets the cwd to the folder containing the notebook.\n",
    "# So, you want to add the root of the project to the sys path, so modules load correctly.\n",
    "import sys\n",
    "sys.path.append(\"../../\")"
   ]
  },
  {
   "cell_type": "code",
   "execution_count": 21,
   "metadata": {},
   "outputs": [],
   "source": [
    "# All other imports\n",
    "import copy\n",
    "import random\n",
    "import numpy as np\n",
    "import matplotlib.pyplot as plt\n",
    "import sksurgerycore.transforms.matrix as mat\n",
    "import sksurgerycore.algorithms.procrustes as pro\n",
    "import sksurgerycore.algorithms.errors as err"
   ]
  },
  {
   "cell_type": "markdown",
   "metadata": {},
   "source": [
    "# Understand a Tracking Marker\n",
    "\n",
    "In these examples, we will assume the use of NDI optical markers, as these are the most common. The same principles apply to Atracsys, OptiTrak etc. \n",
    "\n",
    "For example, look at this NDI pointer:\n",
    "\n",
    "![NDI marker](https://48e3urpkpt226n9pw3mm2p61-wpengine.netdna-ssl.com/wp-content/uploads/2020/09/probe.jpg)\n",
    "\n",
    "You can use NDI software to extract the coordinates of each of the silver balls, or on the NDI support website, you can log in and download a .rom file which contains these coordinates. Each vendor will provide an accurate definition of their coordinates.\n",
    "\n",
    "For example, the above marker has coordinates:\n",
    "\n",
    "```\n",
    "x=0.00, y=0.00, z=0.00\n",
    "x=0.00, y=0.00, z=50.00\n",
    "x=0.00, y=25.00, z=100.00\n",
    "x=0.00, y=-25.00, z=135.00\n",
    "```\n",
    "\n",
    "Here you can see, all points lie in the x=0 plane. The first point, nearest the tip is deemed to be the origin. The z-axis is parallel to and along the length of the shaft. So the second point, is in a line along the shaft, with the 3rd and 4th points offset to the side in the y-axis. The manufacturer can define an arbitrary origin, e.g. the centroid, that doesn't have to correspond to a single ball.\n",
    "\n",
    "\n",
    "# Designing a Tracking Marker\n",
    "\n",
    "Each vendor can define their own, see for example [these by Atracsys](https://www.atracsys-measurement.com/products/passive-accessories-2/). Or, for simulation purposes, you can define your own, as we did in the [\"Using FLE to calculate TRE\"](https://mphy0026.readthedocs.io/en/latest/notebooks.html) workshop. \n",
    "\n",
    "You should read [West and Maurer 2004](http://dx.doi.org/10.1109/TMI.2004.825614), which has a very thorough explanation of the theory, and a very widely applicable simulation, and experimental verification. \n"
   ]
  },
  {
   "cell_type": "markdown",
   "metadata": {},
   "source": [
    "# Understanding Optical Tracking\n",
    "\n",
    "So, the NDI Polaris Spectra optical tracker has 2 cameras, so, each camera detects an image of the silver balls, and these are then triangulated in 3D space. This was covered in the [Tracking](https://mphy0026.readthedocs.io/en/latest/tracking/optical.html) lecture. \n",
    "\n",
    "Triangulating the position of the silver balls, gives 3D coordinates with respect to the origin of the tracker. \n",
    "\n",
    "So, doing point based registration of marker coordinates to tracker coordinates gives you the rotation and translation between the coordinate systems. In other words, if you multiply the origin (0,0,0) by this rotation and translation, you find out where the origin of the marker is in the tracking coordinate system. i.e. you know where it is. \n",
    "\n",
    "So, the registration transformation of marker coordinates to tracker coordinates IS the tracking information you need to track to marker. "
   ]
  },
  {
   "cell_type": "markdown",
   "metadata": {},
   "source": [
    "# Understanding Tool Design\n",
    "\n",
    "A tracking marker is normally attached to a medical device. In the case of the pointer, the pointer IS the medical device. In either case, there will be a point of interest, some distance away from the tracking marker. In the case of the pointer, its about 20cm away. In the case of a laparoscope, it could be 30-50cm away.\n",
    "\n",
    "Take for example the pointer shown above. Imagine that the tip is \n",
    "\n",
    "```\n",
    "x=0, y=0, z=-150\n",
    "```\n",
    "\n",
    "This tip coordinate is expressed in the same coordinate system as the balls (i.e. the marker coordinate system).\n",
    "\n",
    "Once we know the tracking transformation, we can multiply this tip coordinate, by the tracking transformation to know where the tip of the pointer is in tracker coordinates.\n",
    "\n",
    "Here the pointer tip is the point of interest, and when designing the tool, we could ask \"what is the TRE at the tip of the pointer\", in other words, \"how accurately can we locate it?\""
   ]
  },
  {
   "cell_type": "markdown",
   "metadata": {},
   "source": [
    "# Worked Example\n",
    "\n",
    "So, lets do a worked example. What is the TRE for the pointer, at a reasonable distance from a tracker?\n"
   ]
  },
  {
   "cell_type": "code",
   "execution_count": 35,
   "metadata": {},
   "outputs": [
    {
     "name": "stdout",
     "output_type": "stream",
     "text": [
      "Rotation is:[[ 1.00075302e-16  1.00000000e+00 -9.49728969e-17]\n",
      " [ 1.20982797e-16  5.04647493e-17  1.00000000e+00]\n",
      " [ 1.00000000e+00  0.00000000e+00 -1.11022302e-16]]\n",
      "Translation is:[[ 6.76681890e-15]\n",
      " [ 1.42108547e-14]\n",
      " [-1.50000000e+03]]\n",
      "FRE is:8.872994544127538e-15\n"
     ]
    }
   ],
   "source": [
    "# Keep all units the same, in millimetres\n",
    "distance_from_tracker = 1500\n",
    "\n",
    "# Compare with above. We are encoding the marker points into a numpy mattrix\n",
    "marker_points = np.zeros((4, 3))\n",
    "marker_points[1][2] = 50\n",
    "marker_points[2][1] = 25\n",
    "marker_points[2][2] = 100\n",
    "marker_points[3][1] = -25\n",
    "marker_points[3][2] = 135\n",
    "\n",
    "\n",
    "# This is an obvious simplification:\n",
    "# Imagine that the marker is placed along the -z axis, facing exactly perpendicularly to the tracker\n",
    "# In that case, the same geometry is in the X-Y plane rather than the Y-Z plane of the model coordinates\n",
    "triangulated_points = np.zeros((4, 3))\n",
    "triangulated_points[0][0] = 0\n",
    "triangulated_points[0][1] = 0\n",
    "triangulated_points[0][2] = -distance_from_tracker\n",
    "triangulated_points[1][0] = 0\n",
    "triangulated_points[1][1] = 50\n",
    "triangulated_points[1][2] = -distance_from_tracker\n",
    "triangulated_points[2][0] = 25\n",
    "triangulated_points[2][1] = 100\n",
    "triangulated_points[2][2] = -distance_from_tracker\n",
    "triangulated_points[3][0] = -25\n",
    "triangulated_points[3][1] = 135\n",
    "triangulated_points[3][2] = -distance_from_tracker\n",
    "\n",
    "# Now register the marker_points to the triangulated_points to give a starting tracking matrix\n",
    "R, t, FRE = pro.orthogonal_procrustes(triangulated_points, marker_points)\n",
    "\n",
    "# Print matrices. The rotation should look like a change of axes.\n",
    "print(\"Rotation is:\" + str(R))\n",
    "print(\"Translation is:\" + str(t))\n",
    "print(\"FRE is:\" + str(FRE))"
   ]
  },
  {
   "cell_type": "markdown",
   "metadata": {},
   "source": [
    "# Where Is The Pointer?\n",
    "\n",
    "So, given a default starting position, can we calculate the pointer tip position in tracker coordinates?"
   ]
  },
  {
   "cell_type": "code",
   "execution_count": 36,
   "metadata": {},
   "outputs": [
    {
     "name": "stdout",
     "output_type": "stream",
     "text": [
      "Pointer tip is:[[ 2.10127534e-14]\n",
      " [-1.50000000e+02]\n",
      " [-1.50000000e+03]]\n"
     ]
    }
   ],
   "source": [
    "length_of_pointer_from_origin = 150\n",
    "pointer_tip = np.zeros((1, 3))\n",
    "pointer_tip[0][2] = -length_of_pointer_from_origin\n",
    "\n",
    "pointer_in_tracker_coordinates = np.matmul(R, np.transpose(pointer_tip)) + t\n",
    "\n",
    "print(\"Pointer tip is:\" + str(pointer_in_tracker_coordinates))"
   ]
  },
  {
   "cell_type": "markdown",
   "metadata": {},
   "source": [
    "# Variation with Noise\n",
    "\n",
    "Now we can analyse how the location of the tip varies, when we add tracker noise. Tracker noise can be modelled by adding Gaussian distributed noise onto each of the triangulated points, to change their position by a small amount.\n",
    "Then we can re-register the model points back to the (now corrupted) triangulated points, and compute a new rotation matrix and translation vector, and re-compute the position of the pointer tip. i.e. as a result of noise, it will have moved slightly. We can then directly measure error of the tip. The RMS of these errors is the TRE."
   ]
  },
  {
   "cell_type": "code",
   "execution_count": 37,
   "metadata": {},
   "outputs": [
    {
     "data": {
      "image/png": "[encoded data removed]",
      "text/plain": [
       "<Figure size 432x288 with 1 Axes>"
      ]
     },
     "metadata": {
      "needs_background": "light"
     },
     "output_type": "display_data"
    }
   ],
   "source": [
    "number_samples = 2000\n",
    "x_values = []\n",
    "y_values = []\n",
    "for sigma_counter in range(0, 10, 1):\n",
    "    sigma = sigma_counter / 10\n",
    "    rms = 0\n",
    "    corrupted_points = copy.deepcopy(triangulated_points)\n",
    "    for i in range(number_samples):\n",
    "        \n",
    "        # Create corrupted tracking points\n",
    "        for r in range(0, 4):\n",
    "            for c in range(0, 3):\n",
    "                corrupted_points[r][c] = triangulated_points[r][c] + random.normalvariate(0, sigma)\n",
    "        \n",
    "        # Compute a new R, t, FRE\n",
    "        R, t, FRE = pro.orthogonal_procrustes(corrupted_points, marker_points)\n",
    "        \n",
    "        # Copute new tip position\n",
    "        tip_position = np.matmul(R, np.transpose(pointer_tip)) + t\n",
    "        \n",
    "        # Calculate error\n",
    "        diff = np.linalg.norm(tip_position - pointer_in_tracker_coordinates)\n",
    "        diff = diff * diff\n",
    "        rms = rms + diff\n",
    "        \n",
    "    rms = rms / number_samples\n",
    "    rms = np.sqrt(rms)\n",
    "    x_values.append(sigma)\n",
    "    y_values.append(rms)\n",
    "    \n",
    "plt.plot(x_values, y_values, 'r', label='RMS (mm)')  \n",
    "plt.legend(loc='upper left')\n",
    "plt.xlabel('sigma (pixels)')\n",
    "plt.ylabel('error (mm)')\n",
    "plt.show()        "
   ]
  },
  {
   "cell_type": "markdown",
   "metadata": {},
   "source": [
    "# Discussion\n",
    "\n",
    "So, in the above plot, we see that with sigma=0.25 (quoted accuracy of NDI Polaris Spectra), we could expect a RMS error, with a 150mm pointer, of about 0.8mm.\n",
    "\n",
    "Try it with a longer pointer. What if the length of the pointer were 500mm? "
   ]
  },
  {
   "cell_type": "code",
   "execution_count": null,
   "metadata": {},
   "outputs": [],
   "source": []
  }
 ],
 "metadata": {
  "kernelspec": {
   "display_name": "mphy0026",
   "language": "python",
   "name": "mphy0026"
  },
  "language_info": {
   "codemirror_mode": {
    "name": "ipython",
    "version": 3
   },
   "file_extension": ".py",
   "mimetype": "text/x-python",
   "name": "python",
   "nbconvert_exporter": "python",
   "pygments_lexer": "ipython3",
   "version": "3.6.8"
  }
 },
 "nbformat": 4,
 "nbformat_minor": 2
}
