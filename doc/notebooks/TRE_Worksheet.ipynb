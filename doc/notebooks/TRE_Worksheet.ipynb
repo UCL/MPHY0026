{
 "cells": [
  {
   "cell_type": "markdown",
   "metadata": {},
   "source": [
    "# Estimating TRE from FLE and Tool Design\n",
    "\n",
    "In this worksheet, we will investigate the effect on TRE of both FLE and tool design. An excellent reference in this area is [West and Maurer 2004](http://dx.doi.org/10.1109/TMI.2004.825614), which has a very thorough explanation of the theory, and a very widely applicable simulation, and experimental verification. \n",
    "\n",
    "This worksheet gives a simpler, but still sufficiently illustrative example of how the theory can be useful."
   ]
  },
  {
   "cell_type": "code",
   "execution_count": 1,
   "metadata": {},
   "outputs": [],
   "source": [
    "%matplotlib inline"
   ]
  },
  {
   "cell_type": "code",
   "execution_count": 2,
   "metadata": {},
   "outputs": [],
   "source": [
    "# Jupyter notebook sets the cwd to the folder containing the notebook.\n",
    "# So, you want to add the root of the project to the sys path, so modules load correctly.\n",
    "import sys\n",
    "sys.path.append(\"../../\")"
   ]
  },
  {
   "cell_type": "code",
   "execution_count": 3,
   "metadata": {},
   "outputs": [],
   "source": [
    "# All other imports\n",
    "import numpy as np\n",
    "import matplotlib.pyplot as plt\n",
    "import sksurgerycore.transforms.matrix as mat\n",
    "import sksurgerycore.algorithms.procrustes as pro\n",
    "import sksurgerycore.algorithms.errors as err"
   ]
  },
  {
   "cell_type": "code",
   "execution_count": 4,
   "metadata": {},
   "outputs": [],
   "source": [
    "# Various useful functions, to ensure we get enough done in a workshop.\n",
    "def make_pointer(width, length, tip_distance, is_cross):\n",
    "    \"\"\"\n",
    "    Function to generate fiducial locations, and tip position for a simple pointer model.\n",
    "    Refer to West and Maurer, Figure 2 (d) and (e).\n",
    "    \n",
    "    :param width: width of fiducials in mmilimetres (horizontal distance, if you are reading paper)\n",
    "    :param length: length of fiducials in millimetres (vertical distance, if you are reading paper)\n",
    "    :param tip_distance: distance from centroid to pointer tip, along y-axis\n",
    "    :param is_cross: See West And Maurer, if is_cross=True, generates shape like 2(d), and if is_cross is false, like 2(e)\n",
    "    \"\"\"\n",
    "    markers = np.zeros((4, 3))\n",
    "    tip = np.zeros((1,3))\n",
    "    \n",
    "    if is_cross:\n",
    "        markers[0][0] = -width/2.\n",
    "        markers[1][0] =  width/2.\n",
    "        markers[2][1] = -length/2.\n",
    "        markers[3][1] =  length/2.\n",
    "    else:\n",
    "        markers[0][0] = -width/2.\n",
    "        markers[0][1] = -length/2.\n",
    "        markers[1][0] =  width/2.\n",
    "        markers[1][1] = -length/2.\n",
    "        markers[2][0] = -width/2.\n",
    "        markers[2][1] =  length/2.\n",
    "        markers[3][0] =  width/2.\n",
    "        markers[3][1] =  length/2.\n",
    "    tip[0][1] = tip_distance \n",
    "    return markers, tip"
   ]
  },
  {
   "cell_type": "code",
   "execution_count": 5,
   "metadata": {},
   "outputs": [
    {
     "name": "stdout",
     "output_type": "stream",
     "text": [
      "Markers are:\n",
      "[[-20. -50.   0.]\n",
      " [ 20. -50.   0.]\n",
      " [-20.  50.   0.]\n",
      " [ 20.  50.   0.]]\n",
      "Tip is:\n",
      "[[  0. 100.   0.]]\n"
     ]
    }
   ],
   "source": [
    "# This cell illustrates how to create marker coordinates and a tip coordinate, using the above method.\n",
    "markers, tip = make_pointer(40, 100, 100, False)\n",
    "print(\"Markers are:\\n\" + str(markers))\n",
    "print(\"Tip is:\\n\" + str(tip))"
   ]
  },
  {
   "cell_type": "markdown",
   "metadata": {},
   "source": [
    "Try drawing those points on paper, with +x-axis going rightwards, +y-axis going downwards.\n",
    "\n",
    "The next cell calls a SNAPPY function [here](https://github.com/UCL/scikit-surgerycore/blob/master/sksurgerycore/algorithms/errors.py), which implements \n",
    "\n",
    "\\begin{equation}\n",
    "    \\langle TRE^2({\\bf p}) \\rangle \\approx \\frac{ \\langle FLE^2 \\rangle }{N} \\left( 1 + \\frac{1}{3} \\sum_{k=1}^3 \\frac{d_k^2}{f_k^2} \\right)\n",
    "\\end{equation}\n",
    "\n",
    "Tracker manufacturers typically quote RMS values, which is the square root of the, mean (expectation), of the squared error. For example, [NDI quote 0.25 mm rms for polaris spectra](https://www.ndigital.com/medical/products/polaris-family/). The function takes an $Nx3$ list of fiducial points in the coordinate system of the tool, the mean FLE squared and an $1x3$ target point in the same coordinate system. The function returns the estimate according to the above formula, of the mean TRE squared.\n"
   ]
  },
  {
   "cell_type": "code",
   "execution_count": 6,
   "metadata": {},
   "outputs": [
    {
     "name": "stdout",
     "output_type": "stream",
     "text": [
      "0.2332768815126691\n"
     ]
    }
   ],
   "source": [
    "# Example of calling compute_tre_from_fle(fiducial_markers, mean_FLE_squared, tip/target_location)\n",
    "mean_tre_squared = err.compute_tre_from_fle(markers, 0.25 * 0.25, tip)\n",
    "print(np.sqrt(mean_tre_squared))"
   ]
  },
  {
   "cell_type": "code",
   "execution_count": 7,
   "metadata": {},
   "outputs": [
    {
     "data": {
      "image/png": "[encoded data removed]",
      "text/plain": [
       "<Figure size 432x288 with 1 Axes>"
      ]
     },
     "metadata": {
      "needs_background": "light"
     },
     "output_type": "display_data"
    }
   ],
   "source": [
    "# Example of drawing a graph.\n",
    "x_values = range(100) # ToDo: fill list with real data\n",
    "y_values = range(100) # ToDo: fill list with real data\n",
    "plt.plot(x_values, y_values, 'r', label='RMS (mm)')  \n",
    "plt.legend(loc='upper left')\n",
    "plt.xlabel('sigma (pixels)')\n",
    "plt.ylabel('error (mm)')\n",
    "plt.show()"
   ]
  },
  {
   "cell_type": "markdown",
   "metadata": {},
   "source": [
    "# 1. Investigate Characteristics of a Pointer, using Formula\n",
    "\n",
    "Yes, I know we have done a lot of work with a pointer. But, remember, the same logic also applies to endoscopes, laparoscopes and ultrasound probes. If you have tracking markers at one end, then in the case of the laparoscope or endoscope, you are interested in how accurately you can track the optical centre (origin) of the video pinhole camera model. In an ultrasound probe, the \"target\" might just be the centre of the ultrasound transducer that is some distance away from the tracking markers. These things are just easier to study with a pointer.... because its pointy, and you know where the tip is! (optical centre for a laparoscope, is somewhere inside the barrel).\n",
    "\n",
    "Tasks\n",
    "\n",
    "1. Create a set of marker fiducials for a pointer, say width=50mm, height=150mm, tip_distance=150\n",
    "2. Create a graph of RMS TRE, as width varies\n",
    "3. Create a graph of RMS TRE, as height varies\n",
    "4. Create a graph of RMS TRE, as tip_distance varies\n",
    "\n"
   ]
  },
  {
   "cell_type": "code",
   "execution_count": 43,
   "metadata": {},
   "outputs": [],
   "source": [
    "# Your code here."
   ]
  },
  {
   "cell_type": "markdown",
   "metadata": {},
   "source": [
    "So, the \"tip_distance is the distance from the centroid.\n",
    "\n",
    "5. Do these numbers look reasonable for a pointer, but what about a laparoscope?\n",
    "\n",
    "# 2. Investigate the Characteristics of a Laparoscope using Formula\n",
    "\n",
    "6. You can create a set of fiducials for a laparoscope, say width=50mm, height=60mm, tip_distance=300mm\n",
    "7. Create a graph of error \"in front of the camera\", by simply increasing the length of tip_distance. So, x-axis goes from 300mm to 500mm, steps of 10mm. Y-axis is the output of compute_tre_from_fle function."
   ]
  },
  {
   "cell_type": "code",
   "execution_count": 44,
   "metadata": {},
   "outputs": [],
   "source": [
    "# Your code here."
   ]
  },
  {
   "cell_type": "markdown",
   "metadata": {},
   "source": [
    "# 3. Does it Match Simulation?\n",
    "\n",
    "Look at West and Maurer 2004, section III (A), point 8. They add noise to fiducial markers\n",
    "\n",
    "\\begin{equation}\n",
    "  \\sigma = FLE / \\sqrt{3}\n",
    "\\end{equation}\n",
    "\n",
    "where FLE is the Fiducial Localisation Error of the tracker detecting the markers on an optically tracked tool. The paper uses a range of values. Lets just pick $\\sigma = 0.25$, which is the quoted tracking accuracy of the NDI Spectra. However, be aware that tracking accuracy varies throughout the tracking volume, so even this is an average.\n",
    "\n",
    "8. Add zero mean, Gaussian noise to fiducial markers.\n",
    "9. Register noisy-fiducials back to un-noisy fiducials which gives a rotation and translation matrix\n",
    "10. Compute 4x4,\n",
    "11. Multiply target point by 4x4,\n",
    "12. Compute the difference between the original noisy target point and the noise-misregistered one.\n",
    "13. Repeat 8-12, say 1000 times, compute RMS error\n",
    "\n",
    "See functions [sksurgerycore.algorithms.procrustes](https://github.com/UCL/scikit-surgerycore/-/blob/master/sksurgerycore/algorithms/procrustes.py) for Arun's method, and [sksurgerycore.transforms.matrix](https://github.com/UCL/scikit-surgerycore/-/blob/master/sksurgerycore/transforms/matrix.py#L169) to compute a 4x4 matrix from a rotation and translation vector."
   ]
  },
  {
   "cell_type": "code",
   "execution_count": 45,
   "metadata": {},
   "outputs": [],
   "source": [
    "# Your code here"
   ]
  },
  {
   "cell_type": "markdown",
   "metadata": {},
   "source": [
    "# 4. Does a CRF Help?\n",
    "\n",
    "Imagine you have a laparoscope of the above size. Place it a certain distance from the tracker, and another set of markers a reasonable distance as if next to the patient. For simplicity, just translate the points along the -z-axis.\n",
    "\n",
    "14. Translate laparoscope fiducial markers -2000 in z. \n",
    "15. Create another set of markers for the CRF, width=80, height=80, tip_distance=0, is_cross=False\n",
    "16. Translate these markers say -1500 in z.\n",
    "17. As above, add zero mean, Gaussian noise to each fiducial, recompute tracking matrices by registering noisy fiducials to un-noise fiducials. Don't forget to do this twice, once for the laparoscope, once for the marker.\n",
    "18. Compute whether the chosen tip position would be, if you multiplied by the laparoscope-fiducials-to-tracker matrix, and the inverse of the CRF-to-tracker-matrix.\n",
    "19. Compute the difference between the un-noisy position, and the noisy-position.\n",
    "20. Repeat 17-19, say 1000 times, and compute an RMS error.\n",
    "21. Is it lower/higher than section 3?\n"
   ]
  },
  {
   "cell_type": "code",
   "execution_count": null,
   "metadata": {},
   "outputs": [],
   "source": [
    "# Your code here"
   ]
  }
 ],
 "metadata": {
  "kernelspec": {
   "display_name": "mphy0026",
   "language": "python",
   "name": "mphy0026"
  },
  "language_info": {
   "codemirror_mode": {
    "name": "ipython",
    "version": 3
   },
   "file_extension": ".py",
   "mimetype": "text/x-python",
   "name": "python",
   "nbconvert_exporter": "python",
   "pygments_lexer": "ipython3",
   "version": "3.6.8"
  }
 },
 "nbformat": 4,
 "nbformat_minor": 2
}
