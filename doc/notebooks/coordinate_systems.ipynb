{
 "cells": [
  {
   "cell_type": "markdown",
   "metadata": {},
   "source": [
    "# Coordinate Systems\n",
    "\n",
    "From high-school maths, you should be familiar with the cartesian coordinate system, and how to denote co-ordinates in the 2D plane, using ```(x, y)``` coordinates.\n",
    "\n",
    "![2D cartesian coordinates](https://upload.wikimedia.org/wikipedia/commons/thumb/0/0e/Cartesian-coordinate-system.svg/256px-Cartesian-coordinate-system.svg.png)\n",
    "\n",
    "Figure 1: 2D cartesian coordinate system, by Kbolino, Public domain, <a href=\"https://commons.wikimedia.org/wiki/File:Cartesian-coordinate-system.svg\">via Wikimedia Commons</a>\n",
    "\n",
    "The same principle can be extended to 3D, with ```(x, y, z```) coordinates.\n",
    "\n",
    "![3D cartesian coordinates](https://upload.wikimedia.org/wikipedia/commons/thumb/f/fd/Rectangular_coordinates.svg/256px-Rectangular_coordinates.svg.png)\n",
    "\n",
    "Figure 2: 3D cartesian coordinate system, by Cronholm144, Public domain, <a href=\"https://commons.wikimedia.org/wiki/File:Rectangular_coordinates.svg\">via Wikimedia Commons</a>\n",
    "\n",
    "With 3D coordinate systems, you should be aware of whether coordinates are right or left handed. In this course, we will use right handed coordinates exclusively. \n",
    "\n",
    "![Right handed coordinates](https://upload.wikimedia.org/wikipedia/commons/7/79/Rechte-hand-regel.jpg)\n",
    "\n",
    "Figure 3: Right handed coordinates, thumb=X, index=Y, middle=Z, by Abdull, <a href=\"http://creativecommons.org/licenses/by-sa/3.0/\">CC BY-SA 3.0</a>, via <a href=\"https://commons.wikimedia.org/wiki/File:Rechte-hand-regel.jpg\">via Wikimedia Commons</a>\n",
    "\n",
    "In medical imaging in general, and in particular, in image-guided surgery, it is important, not to flip axes around. Software must not accidentally mix up, the left and right hand side of the patient, which in many parts of the anatomy look very similar. So, do not switch left/right handed coordinates, without a lot of software testing."
   ]
  },
  {
   "cell_type": "markdown",
   "metadata": {},
   "source": [
    "# Image-Guided Surgery (IGS) Systems\n",
    "\n",
    "Each image-guided surgery system will have a set of coordinate systems. It is essential to know how to convert coordinates from one coordinate system to another. For example, in the SmartLiver laparoscopic liver surgery application, there is:\n",
    "\n",
    "![Coordinate systems for laparoscopic liver surgery](../background/lap_liver_system.png)\n",
    "\n",
    "The different coordinate systems are:\n",
    "\n",
    "* The 3D CT image = CT\n",
    "* The video camera = camera\n",
    "* The tracking markers on the end of the laparoscope = marker\n",
    "* The tracking system = world\n"
   ]
  },
  {
   "cell_type": "markdown",
   "metadata": {},
   "source": [
    "# Converting Coordinates\n",
    "\n",
    "Let a transformation be denoted by $T$, where $T$ is a $4 \\times 4$ matrix:\n",
    "\n",
    "$$\n",
    "T = \\begin{bmatrix} R & t \\\\ 0 & 1 \\end{bmatrix}\n",
    "$$\n",
    "\n",
    "where $R$ is a $3 \\times 3$ orthonormal rotation matrix, and $t$ a $3 \\times 1$ translation vector.\n",
    "\n",
    "Then the transformation of coordinates from coordinate system $A$ to coordinate system $B$ is given by:\n",
    "\n",
    "$$\n",
    "x^{\\prime} = {}^B_{}T_A x\n",
    "$$\n",
    "\n",
    "where $x$ is a 3D point, in coordinate system $A$, represented as a $4 \\times 1$ column vector using homogeneous coordinates, and $x^{\\prime}$ represents the location of the same point, in coordinate system $B$.\n",
    "\n",
    "\n",
    "\n",
    "\n"
   ]
  },
  {
   "cell_type": "markdown",
   "metadata": {},
   "source": [
    "# Worked Example\n",
    "\n",
    "So, using the laparoscopic liver surgery system above, an anatomical structure such as the liver can be represented as a set of triangles, which comprises 3D points, and their edge connectivity. This coordinates of this triangle mesh can be converted to video camera coordinates thus:\n",
    "\n",
    "$$\n",
    "x_{camera} = {}^{camera}_{}T_{marker} {}^{marker}_{}T_{world} {}^{world}_{}T_{CT} x_{CT}\n",
    "$$\n",
    "\n",
    "where\n",
    "\n",
    "* ${}^{world}_{}T_{CT}$ registers CT coordinates to world (tracker) coordinates\n",
    "* ${}^{marker}_{}T_{world}$ is the inverse of the ${}^{world}_{}T_{marker}$ which is obtained from the tracking system\n",
    "* ${}^{camera}_{}T_{marker}$ is given by calibrating the pose of the video camera with respect to the tracking marker"
   ]
  },
  {
   "cell_type": "markdown",
   "metadata": {},
   "source": [
    "# Conclusion\n",
    "\n",
    "So, the main technical idea behind many IGS systems are to take:\n",
    "\n",
    "* image data, in this example, we used a triangle mesh representing the liver, derived from CT\n",
    "* tracking system, tracking markers\n",
    "* computer\n",
    "\n",
    "and correctly calibrate/register/track so that the image data can be displayed in the correct coordinate system. The core idea is geometrical.\n",
    "\n",
    "However, the real science/art is in designing the calibration and registration procedures so they can be performed in a reasonable time-frame by clinical staff, without impacting the clinical workflow, to the benefit of the patient."
   ]
  }
 ],
 "metadata": {
  "kernelspec": {
   "display_name": "Python 3 (ipykernel)",
   "language": "python",
   "name": "python3"
  },
  "language_info": {
   "codemirror_mode": {
    "name": "ipython",
    "version": 3
   },
   "file_extension": ".py",
   "mimetype": "text/x-python",
   "name": "python",
   "nbconvert_exporter": "python",
   "pygments_lexer": "ipython3",
   "version": "3.7.15"
  }
 },
 "nbformat": 4,
 "nbformat_minor": 2
}
